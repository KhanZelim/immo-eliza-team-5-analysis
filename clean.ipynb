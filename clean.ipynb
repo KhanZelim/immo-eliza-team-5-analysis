{
 "cells": [
  {
   "cell_type": "code",
   "execution_count": 2,
   "metadata": {},
   "outputs": [],
   "source": [
    "import pandas as pd"
   ]
  },
  {
   "cell_type": "code",
   "execution_count": 24,
   "metadata": {},
   "outputs": [],
   "source": [
    "properties = pd.read_csv(\"data/raw/properties.csv\")"
   ]
  },
  {
   "cell_type": "code",
   "execution_count": 25,
   "metadata": {},
   "outputs": [],
   "source": [
    "properties = properties.drop(columns=[\"nbr_frontages\", \"surface_land_sqm\", \n",
    "                                      \"terrace_sqm\", \"primary_energy_consumption_sqm\", \"epc\", \n",
    "                                      \"heating_type\", \"latitude\", \"longitude\", \"cadastral_income\"], axis=1)"
   ]
  },
  {
   "cell_type": "code",
   "execution_count": 26,
   "metadata": {},
   "outputs": [],
   "source": [
    "properties = properties.dropna()"
   ]
  },
  {
   "cell_type": "code",
   "execution_count": 33,
   "metadata": {},
   "outputs": [],
   "source": [
    "properties.construction_year = properties.construction_year.astype(\"int64\")\n",
    "properties.nbr_bedrooms = properties.nbr_bedrooms.astype(\"int64\")"
   ]
  },
  {
   "cell_type": "code",
   "execution_count": 34,
   "metadata": {},
   "outputs": [
    {
     "data": {
      "text/plain": [
       "id                     int64\n",
       "price                float64\n",
       "property_type         object\n",
       "subproperty_type      object\n",
       "region                object\n",
       "province              object\n",
       "locality              object\n",
       "zip_code               int64\n",
       "construction_year      int64\n",
       "total_area_sqm       float64\n",
       "nbr_bedrooms           int64\n",
       "equipped_kitchen      object\n",
       "fl_furnished           int64\n",
       "fl_open_fire           int64\n",
       "fl_terrace             int64\n",
       "fl_garden              int64\n",
       "garden_sqm           float64\n",
       "fl_swimming_pool       int64\n",
       "fl_floodzone           int64\n",
       "state_building        object\n",
       "fl_double_glazing      int64\n",
       "dtype: object"
      ]
     },
     "execution_count": 34,
     "metadata": {},
     "output_type": "execute_result"
    }
   ],
   "source": [
    "properties.dtypes"
   ]
  },
  {
   "cell_type": "code",
   "execution_count": 37,
   "metadata": {},
   "outputs": [],
   "source": [
    "with open(\"data/cleaned/properties.csv\", \"wb\") as csv_file:\n",
    "    pd.DataFrame.to_csv(properties, csv_file, index=False)"
   ]
  }
 ],
 "metadata": {
  "kernelspec": {
   "display_name": ".venv",
   "language": "python",
   "name": "python3"
  },
  "language_info": {
   "codemirror_mode": {
    "name": "ipython",
    "version": 3
   },
   "file_extension": ".py",
   "mimetype": "text/x-python",
   "name": "python",
   "nbconvert_exporter": "python",
   "pygments_lexer": "ipython3",
   "version": "3.12.7"
  }
 },
 "nbformat": 4,
 "nbformat_minor": 2
}

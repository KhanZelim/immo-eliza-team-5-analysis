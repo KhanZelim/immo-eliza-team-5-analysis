{
 "cells": [
  {
   "cell_type": "code",
   "execution_count": 1,
   "metadata": {},
   "outputs": [],
   "source": [
    "import pandas as pd"
   ]
  },
  {
   "cell_type": "code",
   "execution_count": 2,
   "metadata": {},
   "outputs": [],
   "source": [
    "properties = pd.read_csv(\"data/raw/properties.csv\")"
   ]
  },
  {
   "cell_type": "code",
   "execution_count": 3,
   "metadata": {},
   "outputs": [
    {
     "name": "stdout",
     "output_type": "stream",
     "text": [
      "<class 'pandas.core.frame.DataFrame'>\n",
      "RangeIndex: 75511 entries, 0 to 75510\n",
      "Data columns (total 30 columns):\n",
      " #   Column                          Non-Null Count  Dtype  \n",
      "---  ------                          --------------  -----  \n",
      " 0   id                              75511 non-null  int64  \n",
      " 1   price                           75511 non-null  float64\n",
      " 2   property_type                   75511 non-null  object \n",
      " 3   subproperty_type                75511 non-null  object \n",
      " 4   region                          75511 non-null  object \n",
      " 5   province                        75511 non-null  object \n",
      " 6   locality                        75511 non-null  object \n",
      " 7   zip_code                        75511 non-null  int64  \n",
      " 8   latitude                        61413 non-null  float64\n",
      " 9   longitude                       61413 non-null  float64\n",
      " 10  construction_year               42120 non-null  float64\n",
      " 11  total_area_sqm                  67896 non-null  float64\n",
      " 12  surface_land_sqm                39255 non-null  float64\n",
      " 13  nbr_frontages                   49165 non-null  float64\n",
      " 14  nbr_bedrooms                    75511 non-null  float64\n",
      " 15  equipped_kitchen                75511 non-null  object \n",
      " 16  fl_furnished                    75511 non-null  int64  \n",
      " 17  fl_open_fire                    75511 non-null  int64  \n",
      " 18  fl_terrace                      75511 non-null  int64  \n",
      " 19  terrace_sqm                     62371 non-null  float64\n",
      " 20  fl_garden                       75511 non-null  int64  \n",
      " 21  garden_sqm                      72572 non-null  float64\n",
      " 22  fl_swimming_pool                75511 non-null  int64  \n",
      " 23  fl_floodzone                    75511 non-null  int64  \n",
      " 24  state_building                  75511 non-null  object \n",
      " 25  primary_energy_consumption_sqm  48944 non-null  float64\n",
      " 26  epc                             75511 non-null  object \n",
      " 27  heating_type                    75511 non-null  object \n",
      " 28  fl_double_glazing               75511 non-null  int64  \n",
      " 29  cadastral_income                30544 non-null  float64\n",
      "dtypes: float64(12), int64(9), object(9)\n",
      "memory usage: 17.3+ MB\n"
     ]
    }
   ],
   "source": [
    "properties.info()"
   ]
  },
  {
   "cell_type": "code",
   "execution_count": 83,
   "metadata": {},
   "outputs": [],
   "source": [
    "properties = properties.drop(columns=[\"nbr_frontages\", \"surface_land_sqm\", \n",
    "                                      \"fl_terrace\", \"fl_garden\", \"epc\", \n",
    "                                      \"heating_type\", \"latitude\", \"longitude\", \"cadastral_income\"], axis=1)"
   ]
  },
  {
   "cell_type": "code",
   "execution_count": 84,
   "metadata": {},
   "outputs": [],
   "source": [
    "properties = properties.dropna()"
   ]
  },
  {
   "cell_type": "code",
   "execution_count": 85,
   "metadata": {},
   "outputs": [],
   "source": [
    "properties.construction_year = properties.construction_year.astype(\"int64\")\n",
    "properties.nbr_bedrooms = properties.nbr_bedrooms.astype(\"int64\")"
   ]
  },
  {
   "cell_type": "code",
   "execution_count": 86,
   "metadata": {},
   "outputs": [
    {
     "data": {
      "text/plain": [
       "id                                  int64\n",
       "price                             float64\n",
       "property_type                      object\n",
       "subproperty_type                   object\n",
       "region                             object\n",
       "province                           object\n",
       "locality                           object\n",
       "zip_code                            int64\n",
       "construction_year                   int64\n",
       "total_area_sqm                    float64\n",
       "nbr_bedrooms                        int64\n",
       "equipped_kitchen                   object\n",
       "fl_furnished                        int64\n",
       "fl_open_fire                        int64\n",
       "terrace_sqm                       float64\n",
       "garden_sqm                        float64\n",
       "fl_swimming_pool                    int64\n",
       "fl_floodzone                        int64\n",
       "state_building                     object\n",
       "primary_energy_consumption_sqm    float64\n",
       "fl_double_glazing                   int64\n",
       "dtype: object"
      ]
     },
     "execution_count": 86,
     "metadata": {},
     "output_type": "execute_result"
    }
   ],
   "source": [
    "properties.dtypes"
   ]
  },
  {
   "cell_type": "code",
   "execution_count": 87,
   "metadata": {},
   "outputs": [],
   "source": [
    "with open(\"data/cleaned/properties.csv\", \"wb\") as csv_file:\n",
    "    pd.DataFrame.to_csv(properties, csv_file, index=False)"
   ]
  }
 ],
 "metadata": {
  "kernelspec": {
   "display_name": "Python 3",
   "language": "python",
   "name": "python3"
  },
  "language_info": {
   "codemirror_mode": {
    "name": "ipython",
    "version": 3
   },
   "file_extension": ".py",
   "mimetype": "text/x-python",
   "name": "python",
   "nbconvert_exporter": "python",
   "pygments_lexer": "ipython3",
   "version": "3.12.7"
  }
 },
 "nbformat": 4,
 "nbformat_minor": 2
}

{
 "cells": [
  {
   "cell_type": "code",
   "execution_count": 2,
   "metadata": {},
   "outputs": [],
   "source": [
    "import pandas as pd"
   ]
  },
  {
   "cell_type": "code",
   "execution_count": 3,
   "metadata": {},
   "outputs": [],
   "source": [
    "df = pd.read_csv(\"data/raw/properties.csv\")"
   ]
  },
  {
   "cell_type": "code",
   "execution_count": 4,
   "metadata": {},
   "outputs": [
    {
     "data": {
      "text/plain": [
       "id                                  int64\n",
       "price                             float64\n",
       "property_type                      object\n",
       "subproperty_type                   object\n",
       "region                             object\n",
       "province                           object\n",
       "locality                           object\n",
       "zip_code                            int64\n",
       "latitude                          float64\n",
       "longitude                         float64\n",
       "construction_year                 float64\n",
       "total_area_sqm                    float64\n",
       "surface_land_sqm                  float64\n",
       "nbr_frontages                     float64\n",
       "nbr_bedrooms                      float64\n",
       "equipped_kitchen                   object\n",
       "fl_furnished                        int64\n",
       "fl_open_fire                        int64\n",
       "fl_terrace                          int64\n",
       "terrace_sqm                       float64\n",
       "fl_garden                           int64\n",
       "garden_sqm                        float64\n",
       "fl_swimming_pool                    int64\n",
       "fl_floodzone                        int64\n",
       "state_building                     object\n",
       "primary_energy_consumption_sqm    float64\n",
       "epc                                object\n",
       "heating_type                       object\n",
       "fl_double_glazing                   int64\n",
       "cadastral_income                  float64\n",
       "dtype: object"
      ]
     },
     "execution_count": 4,
     "metadata": {},
     "output_type": "execute_result"
    }
   ],
   "source": [
    "df.dtypes"
   ]
  },
  {
   "cell_type": "markdown",
   "metadata": {},
   "source": [
    "Not needed:\n",
    "    nbr_frontages\n",
    "    surface_land_sqm\n",
    "    terrace_sqm\n",
    "    primary_energy_consumption_sqm \n",
    "    epc\n",
    "    heating_type\n",
    "Not needed now:\n",
    "    latitude\n",
    "    longitude\n",
    "    cadastral_income\n",
    "Needed:\n",
    "    id\n",
    "    price\n",
    "    property_type\n",
    "    subproperty_type\n",
    "    region\n",
    "    province\n",
    "    locality\n",
    "    zip_code\n",
    "    construction_year\n",
    "    total_area_sqm \n",
    "    equipped_kitchen\n",
    "    nbr_bedrooms\n",
    "    fl_furnished\n",
    "    fl_open_fire\n",
    "    fl_terrace\n",
    "    fl_garden\n",
    "    garden_sqm\n",
    "    fl_swimming_pool\n",
    "    fl_floodzone\n",
    "    state_building\n",
    "    fl_double_glazing"
   ]
  },
  {
   "cell_type": "code",
   "execution_count": 5,
   "metadata": {},
   "outputs": [
    {
     "name": "stdout",
     "output_type": "stream",
     "text": [
      "<class 'pandas.core.frame.DataFrame'>\n",
      "RangeIndex: 75511 entries, 0 to 75510\n",
      "Data columns (total 30 columns):\n",
      " #   Column                          Non-Null Count  Dtype  \n",
      "---  ------                          --------------  -----  \n",
      " 0   id                              75511 non-null  int64  \n",
      " 1   price                           75511 non-null  float64\n",
      " 2   property_type                   75511 non-null  object \n",
      " 3   subproperty_type                75511 non-null  object \n",
      " 4   region                          75511 non-null  object \n",
      " 5   province                        75511 non-null  object \n",
      " 6   locality                        75511 non-null  object \n",
      " 7   zip_code                        75511 non-null  int64  \n",
      " 8   latitude                        61413 non-null  float64\n",
      " 9   longitude                       61413 non-null  float64\n",
      " 10  construction_year               42120 non-null  float64\n",
      " 11  total_area_sqm                  67896 non-null  float64\n",
      " 12  surface_land_sqm                39255 non-null  float64\n",
      " 13  nbr_frontages                   49165 non-null  float64\n",
      " 14  nbr_bedrooms                    75511 non-null  float64\n",
      " 15  equipped_kitchen                75511 non-null  object \n",
      " 16  fl_furnished                    75511 non-null  int64  \n",
      " 17  fl_open_fire                    75511 non-null  int64  \n",
      " 18  fl_terrace                      75511 non-null  int64  \n",
      " 19  terrace_sqm                     62371 non-null  float64\n",
      " 20  fl_garden                       75511 non-null  int64  \n",
      " 21  garden_sqm                      72572 non-null  float64\n",
      " 22  fl_swimming_pool                75511 non-null  int64  \n",
      " 23  fl_floodzone                    75511 non-null  int64  \n",
      " 24  state_building                  75511 non-null  object \n",
      " 25  primary_energy_consumption_sqm  48944 non-null  float64\n",
      " 26  epc                             75511 non-null  object \n",
      " 27  heating_type                    75511 non-null  object \n",
      " 28  fl_double_glazing               75511 non-null  int64  \n",
      " 29  cadastral_income                30544 non-null  float64\n",
      "dtypes: float64(12), int64(9), object(9)\n",
      "memory usage: 17.3+ MB\n"
     ]
    }
   ],
   "source": [
    "df.info()"
   ]
  }
 ],
 "metadata": {
  "kernelspec": {
   "display_name": ".venv",
   "language": "python",
   "name": "python3"
  },
  "language_info": {
   "codemirror_mode": {
    "name": "ipython",
    "version": 3
   },
   "file_extension": ".py",
   "mimetype": "text/x-python",
   "name": "python",
   "nbconvert_exporter": "python",
   "pygments_lexer": "ipython3",
   "version": "3.12.7"
  }
 },
 "nbformat": 4,
 "nbformat_minor": 2
}
